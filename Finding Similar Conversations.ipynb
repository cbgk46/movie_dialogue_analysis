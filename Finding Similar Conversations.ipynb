{
 "cells": [
  {
   "cell_type": "markdown",
   "metadata": {},
   "source": [
    "<h4> Objectives</h4>\n",
    "<ul>\n",
    "<li> Finding Similar Conversations\n",
    "</ul>"
   ]
  },
  {
   "cell_type": "code",
   "execution_count": 15,
   "metadata": {
    "collapsed": false
   },
   "outputs": [],
   "source": [
    "import pandas as pd\n",
    "from matplotlib import pyplot as plt\n",
    "import seaborn\n",
    "import os\n",
    "from gensim.models.keyedvectors import KeyedVectors\n",
    "from nltk.tokenize import RegexpTokenizer\n",
    "from nltk.corpus import stopwords\n",
    "import pickle\n",
    "import gensim\n",
    "from gensim.models.doc2vec import TaggedDocument\n",
    "import random\n",
    "import numpy as np\n",
    "import ast\n",
    "from tqdm import tqdm\n",
    "%matplotlib inline"
   ]
  },
  {
   "cell_type": "code",
   "execution_count": 3,
   "metadata": {
    "collapsed": true
   },
   "outputs": [],
   "source": [
    "lines = pd.read_json(\"dataset\"+os.sep+\"movie_lines.json\")"
   ]
  },
  {
   "cell_type": "code",
   "execution_count": 4,
   "metadata": {
    "collapsed": false
   },
   "outputs": [
    {
     "data": {
      "text/html": [
       "<div>\n",
       "<table border=\"1\" class=\"dataframe\">\n",
       "  <thead>\n",
       "    <tr style=\"text-align: right;\">\n",
       "      <th></th>\n",
       "      <th>character_id</th>\n",
       "      <th>character_name</th>\n",
       "      <th>line_id</th>\n",
       "      <th>movie_id</th>\n",
       "      <th>text</th>\n",
       "    </tr>\n",
       "  </thead>\n",
       "  <tbody>\n",
       "    <tr>\n",
       "      <th>0</th>\n",
       "      <td>u0</td>\n",
       "      <td>BIANCA</td>\n",
       "      <td>L1045</td>\n",
       "      <td>m0</td>\n",
       "      <td>They do not!</td>\n",
       "    </tr>\n",
       "    <tr>\n",
       "      <th>1</th>\n",
       "      <td>u2</td>\n",
       "      <td>CAMERON</td>\n",
       "      <td>L1044</td>\n",
       "      <td>m0</td>\n",
       "      <td>They do to!</td>\n",
       "    </tr>\n",
       "    <tr>\n",
       "      <th>10</th>\n",
       "      <td>u2</td>\n",
       "      <td>CAMERON</td>\n",
       "      <td>L868</td>\n",
       "      <td>m0</td>\n",
       "      <td>The \"real you\".</td>\n",
       "    </tr>\n",
       "  </tbody>\n",
       "</table>\n",
       "</div>"
      ],
      "text/plain": [
       "   character_id character_name line_id movie_id             text\n",
       "0            u0         BIANCA   L1045       m0     They do not!\n",
       "1            u2        CAMERON   L1044       m0      They do to!\n",
       "10           u2        CAMERON    L868       m0  The \"real you\"."
      ]
     },
     "execution_count": 4,
     "metadata": {},
     "output_type": "execute_result"
    }
   ],
   "source": [
    "lines.head(3)"
   ]
  },
  {
   "cell_type": "code",
   "execution_count": 14,
   "metadata": {
    "collapsed": true
   },
   "outputs": [],
   "source": [
    "lines_dict = {}\n",
    "for idx,row in lines.iterrows():\n",
    "    lines_dict[row[\"line_id\"]]=row[\"text\"]"
   ]
  },
  {
   "cell_type": "code",
   "execution_count": 5,
   "metadata": {
    "collapsed": true
   },
   "outputs": [],
   "source": [
    "conversations = pd.read_json(\"dataset\"+os.sep+\"movie_conversations.json\")"
   ]
  },
  {
   "cell_type": "code",
   "execution_count": 6,
   "metadata": {
    "collapsed": false
   },
   "outputs": [
    {
     "data": {
      "text/html": [
       "<div>\n",
       "<table border=\"1\" class=\"dataframe\">\n",
       "  <thead>\n",
       "    <tr style=\"text-align: right;\">\n",
       "      <th></th>\n",
       "      <th>character_id_1</th>\n",
       "      <th>character_id_2</th>\n",
       "      <th>line_ids</th>\n",
       "      <th>movie_id</th>\n",
       "    </tr>\n",
       "  </thead>\n",
       "  <tbody>\n",
       "    <tr>\n",
       "      <th>0</th>\n",
       "      <td>u0</td>\n",
       "      <td>u2</td>\n",
       "      <td>['L194', 'L195', 'L196', 'L197']</td>\n",
       "      <td>m0</td>\n",
       "    </tr>\n",
       "    <tr>\n",
       "      <th>1</th>\n",
       "      <td>u0</td>\n",
       "      <td>u2</td>\n",
       "      <td>['L198', 'L199']</td>\n",
       "      <td>m0</td>\n",
       "    </tr>\n",
       "    <tr>\n",
       "      <th>10</th>\n",
       "      <td>u0</td>\n",
       "      <td>u2</td>\n",
       "      <td>['L367', 'L368']</td>\n",
       "      <td>m0</td>\n",
       "    </tr>\n",
       "  </tbody>\n",
       "</table>\n",
       "</div>"
      ],
      "text/plain": [
       "   character_id_1 character_id_2                          line_ids movie_id\n",
       "0              u0             u2  ['L194', 'L195', 'L196', 'L197']       m0\n",
       "1              u0             u2                  ['L198', 'L199']       m0\n",
       "10             u0             u2                  ['L367', 'L368']       m0"
      ]
     },
     "execution_count": 6,
     "metadata": {},
     "output_type": "execute_result"
    }
   ],
   "source": [
    "conversations.head(3)"
   ]
  },
  {
   "cell_type": "code",
   "execution_count": 8,
   "metadata": {
    "collapsed": true
   },
   "outputs": [],
   "source": [
    "conversations[\"dialogues_text\"]=\"\""
   ]
  },
  {
   "cell_type": "code",
   "execution_count": 16,
   "metadata": {
    "collapsed": false
   },
   "outputs": [
    {
     "name": "stderr",
     "output_type": "stream",
     "text": [
      "83097it [00:12, 6432.67it/s]\n"
     ]
    }
   ],
   "source": [
    "for idx,row in tqdm(conversations.iterrows()):\n",
    "    dialogues = ast.literal_eval(row[\"line_ids\"])\n",
    "    dialogues_text = [lines_dict[d]\n",
    "                      for d in dialogues]\n",
    "    dialogues_text = \" \".join(dialogues_text)\n",
    "    conversations.set_value(idx,\"dialogues_text\",dialogues_text)"
   ]
  },
  {
   "cell_type": "code",
   "execution_count": 17,
   "metadata": {
    "collapsed": false
   },
   "outputs": [
    {
     "data": {
      "text/html": [
       "<div>\n",
       "<table border=\"1\" class=\"dataframe\">\n",
       "  <thead>\n",
       "    <tr style=\"text-align: right;\">\n",
       "      <th></th>\n",
       "      <th>character_id_1</th>\n",
       "      <th>character_id_2</th>\n",
       "      <th>line_ids</th>\n",
       "      <th>movie_id</th>\n",
       "      <th>dialogues_text</th>\n",
       "    </tr>\n",
       "  </thead>\n",
       "  <tbody>\n",
       "    <tr>\n",
       "      <th>0</th>\n",
       "      <td>u0</td>\n",
       "      <td>u2</td>\n",
       "      <td>['L194', 'L195', 'L196', 'L197']</td>\n",
       "      <td>m0</td>\n",
       "      <td>Can we make this quick?  Roxanne Korrine and A...</td>\n",
       "    </tr>\n",
       "    <tr>\n",
       "      <th>1</th>\n",
       "      <td>u0</td>\n",
       "      <td>u2</td>\n",
       "      <td>['L198', 'L199']</td>\n",
       "      <td>m0</td>\n",
       "      <td>You're asking me out.  That's so cute. What's ...</td>\n",
       "    </tr>\n",
       "    <tr>\n",
       "      <th>10</th>\n",
       "      <td>u0</td>\n",
       "      <td>u2</td>\n",
       "      <td>['L367', 'L368']</td>\n",
       "      <td>m0</td>\n",
       "      <td>How do you get your hair to look like that? Eb...</td>\n",
       "    </tr>\n",
       "  </tbody>\n",
       "</table>\n",
       "</div>"
      ],
      "text/plain": [
       "   character_id_1 character_id_2                          line_ids movie_id  \\\n",
       "0              u0             u2  ['L194', 'L195', 'L196', 'L197']       m0   \n",
       "1              u0             u2                  ['L198', 'L199']       m0   \n",
       "10             u0             u2                  ['L367', 'L368']       m0   \n",
       "\n",
       "                                       dialogues_text  \n",
       "0   Can we make this quick?  Roxanne Korrine and A...  \n",
       "1   You're asking me out.  That's so cute. What's ...  \n",
       "10  How do you get your hair to look like that? Eb...  "
      ]
     },
     "execution_count": 17,
     "metadata": {},
     "output_type": "execute_result"
    }
   ],
   "source": [
    "conversations.head(3)"
   ]
  },
  {
   "cell_type": "code",
   "execution_count": 21,
   "metadata": {
    "collapsed": true
   },
   "outputs": [],
   "source": [
    "def clean_text(corpus):\n",
    "    punctuation = \"\"\".,?!:;(){}[]-\"\"\"\n",
    "    corpus = [z.lower().replace(\"\\n\",\"\").strip() for z in corpus.split(\" \")]\n",
    "    #corpus = [z for z in corpus if not z in stopwords.words('english')]\n",
    "    for c in punctuation:\n",
    "        corpus = [z.replace(c,\" \") for z in corpus]\n",
    "    return corpus"
   ]
  },
  {
   "cell_type": "code",
   "execution_count": 22,
   "metadata": {
    "collapsed": false
   },
   "outputs": [],
   "source": [
    "conversations[\"dialogues_text\"] = conversations[\"dialogues_text\"].apply(lambda x:clean_text(x))"
   ]
  },
  {
   "cell_type": "code",
   "execution_count": 23,
   "metadata": {
    "collapsed": false
   },
   "outputs": [
    {
     "data": {
      "text/html": [
       "<div>\n",
       "<table border=\"1\" class=\"dataframe\">\n",
       "  <thead>\n",
       "    <tr style=\"text-align: right;\">\n",
       "      <th></th>\n",
       "      <th>character_id_1</th>\n",
       "      <th>character_id_2</th>\n",
       "      <th>line_ids</th>\n",
       "      <th>movie_id</th>\n",
       "      <th>dialogues_text</th>\n",
       "    </tr>\n",
       "  </thead>\n",
       "  <tbody>\n",
       "    <tr>\n",
       "      <th>0</th>\n",
       "      <td>u0</td>\n",
       "      <td>u2</td>\n",
       "      <td>['L194', 'L195', 'L196', 'L197']</td>\n",
       "      <td>m0</td>\n",
       "      <td>[can, we, make, this, quick , , roxanne, korri...</td>\n",
       "    </tr>\n",
       "    <tr>\n",
       "      <th>1</th>\n",
       "      <td>u0</td>\n",
       "      <td>u2</td>\n",
       "      <td>['L198', 'L199']</td>\n",
       "      <td>m0</td>\n",
       "      <td>[you're, asking, me, out , , that's, so, cute ...</td>\n",
       "    </tr>\n",
       "    <tr>\n",
       "      <th>10</th>\n",
       "      <td>u0</td>\n",
       "      <td>u2</td>\n",
       "      <td>['L367', 'L368']</td>\n",
       "      <td>m0</td>\n",
       "      <td>[how, do, you, get, your, hair, to, look, like...</td>\n",
       "    </tr>\n",
       "  </tbody>\n",
       "</table>\n",
       "</div>"
      ],
      "text/plain": [
       "   character_id_1 character_id_2                          line_ids movie_id  \\\n",
       "0              u0             u2  ['L194', 'L195', 'L196', 'L197']       m0   \n",
       "1              u0             u2                  ['L198', 'L199']       m0   \n",
       "10             u0             u2                  ['L367', 'L368']       m0   \n",
       "\n",
       "                                       dialogues_text  \n",
       "0   [can, we, make, this, quick , , roxanne, korri...  \n",
       "1   [you're, asking, me, out , , that's, so, cute ...  \n",
       "10  [how, do, you, get, your, hair, to, look, like...  "
      ]
     },
     "execution_count": 23,
     "metadata": {},
     "output_type": "execute_result"
    }
   ],
   "source": [
    "conversations.head(3)"
   ]
  },
  {
   "cell_type": "code",
   "execution_count": 24,
   "metadata": {
    "collapsed": true
   },
   "outputs": [],
   "source": [
    "conversations.to_json(\"dataset\"+os.sep+\"conversations_agg.json\")"
   ]
  },
  {
   "cell_type": "code",
   "execution_count": 61,
   "metadata": {
    "collapsed": true
   },
   "outputs": [],
   "source": [
    "conversations[\"new_index\"]=\"\""
   ]
  },
  {
   "cell_type": "code",
   "execution_count": 62,
   "metadata": {
    "collapsed": true
   },
   "outputs": [],
   "source": [
    "for idx,row in conversations.iterrows():\n",
    "    id_text = row[\"movie_id\"]+\"_\"+row[\"character_id_1\"]+\"_\"+row[\"character_id_2\"]+\"_\"+str(idx)\n",
    "    conversations.set_value(idx,\"new_index\",id_text)"
   ]
  },
  {
   "cell_type": "code",
   "execution_count": 37,
   "metadata": {
    "collapsed": false
   },
   "outputs": [],
   "source": [
    "x_train = [ TaggedDocument(words = row[\"dialogues_text\"],tags = [row[\"movie_id\"]+\"_\"+row[\"character_id_1\"]+\"_\"+row[\"character_id_2\"]+\"_\"+str(idx)])\n",
    "            for idx,row in conversations.iterrows()] "
   ]
  },
  {
   "cell_type": "code",
   "execution_count": 38,
   "metadata": {
    "collapsed": true
   },
   "outputs": [],
   "source": [
    "size=400\n",
    "model_dm = gensim.models.Doc2Vec(min_count=1,window=10,size=size,sample=1e-3,negative=3,workers=8)"
   ]
  },
  {
   "cell_type": "code",
   "execution_count": 39,
   "metadata": {
    "collapsed": true
   },
   "outputs": [],
   "source": [
    "model_dm.build_vocab(x_train)"
   ]
  },
  {
   "cell_type": "code",
   "execution_count": null,
   "metadata": {
    "collapsed": true
   },
   "outputs": [],
   "source": [
    "'''\n",
    "Running this will take a lot of time\n",
    "'''\n",
    "for epoch in range(10):\n",
    "    perm = np.random.permutation(np.array(x_train).shape[0])\n",
    "    model_dm.train(x_train[perm])"
   ]
  },
  {
   "cell_type": "code",
   "execution_count": 40,
   "metadata": {
    "collapsed": false
   },
   "outputs": [
    {
     "data": {
      "text/plain": [
       "13093113"
      ]
     },
     "execution_count": 40,
     "metadata": {},
     "output_type": "execute_result"
    }
   ],
   "source": [
    "model_dm.train(x_train)"
   ]
  },
  {
   "cell_type": "code",
   "execution_count": 41,
   "metadata": {
    "collapsed": true
   },
   "outputs": [],
   "source": [
    "model_file_path = os.path.join(\"models\",\"conversation_models.pkl\")"
   ]
  },
  {
   "cell_type": "code",
   "execution_count": 42,
   "metadata": {
    "collapsed": false
   },
   "outputs": [],
   "source": [
    "with open(model_file_path,\"wb\") as f:\n",
    "    pickle.dump(model_dm,f,pickle.HIGHEST_PROTOCOL)"
   ]
  },
  {
   "cell_type": "markdown",
   "metadata": {},
   "source": [
    "With a model now in place, we can use it to find similar characters. The below is the code for achieving it."
   ]
  },
  {
   "cell_type": "code",
   "execution_count": 43,
   "metadata": {
    "collapsed": false
   },
   "outputs": [
    {
     "data": {
      "text/plain": [
       "character_id_1                                                u1094\n",
       "character_id_2                                                u1100\n",
       "line_ids                                     ['L236546', 'L236547']\n",
       "movie_id                                                        m72\n",
       "dialogues_text    [yeah , right , no , i'm, serious , give, us, ...\n",
       "Name: 10005, dtype: object"
      ]
     },
     "execution_count": 43,
     "metadata": {},
     "output_type": "execute_result"
    }
   ],
   "source": [
    "conversations.iloc[10]"
   ]
  },
  {
   "cell_type": "code",
   "execution_count": 44,
   "metadata": {
    "collapsed": false
   },
   "outputs": [],
   "source": [
    "tokens =conversations.dialogues_text[10]\n",
    "new_vector = model_dm.infer_vector(tokens)\n",
    "sims = model_dm.docvecs.most_similar(positive=[new_vector],topn=3)"
   ]
  },
  {
   "cell_type": "markdown",
   "metadata": {},
   "source": [
    "The result is that we have the top 3 similar characters and thei cosine similarity scores"
   ]
  },
  {
   "cell_type": "code",
   "execution_count": 45,
   "metadata": {
    "collapsed": false
   },
   "outputs": [
    {
     "data": {
      "text/plain": [
       "[('m159_u2466_u2476_22608', 0.5580568313598633),\n",
       " ('m437_u6572_u6574_60425', 0.5205708742141724),\n",
       " ('m196_u2997_u2999_27677', 0.5167331695556641)]"
      ]
     },
     "execution_count": 45,
     "metadata": {},
     "output_type": "execute_result"
    }
   ],
   "source": [
    "sims"
   ]
  },
  {
   "cell_type": "markdown",
   "metadata": {},
   "source": [
    "<h3>Finding some interesing dialogues !! </h3>"
   ]
  },
  {
   "cell_type": "code",
   "execution_count": 54,
   "metadata": {
    "collapsed": true
   },
   "outputs": [],
   "source": [
    "#tokens = [\"i\",\"know\",\"what\",\"you\",\"did\",\"last\",\"summer\"]\n",
    "tokens = [\"jurassic\",\"lost\",\"world\"]\n",
    "new_vector = model_dm.infer_vector(tokens)\n",
    "sims = model_dm.docvecs.most_similar(positive=[new_vector],topn=3)"
   ]
  },
  {
   "cell_type": "code",
   "execution_count": 55,
   "metadata": {
    "collapsed": false
   },
   "outputs": [
    {
     "data": {
      "text/plain": [
       "[('m411_u6165_u6168_56996', 0.607579231262207),\n",
       " ('m198_u3031_u3034_28029', 0.6055326461791992),\n",
       " ('m171_u2621_u2632_24415', 0.6051242351531982)]"
      ]
     },
     "execution_count": 55,
     "metadata": {},
     "output_type": "execute_result"
    }
   ],
   "source": [
    "sims"
   ]
  },
  {
   "cell_type": "code",
   "execution_count": 50,
   "metadata": {
    "collapsed": true
   },
   "outputs": [],
   "source": [
    "movies = pd.read_json(\"dataset\"+os.sep+\"movie_titles_metadata.json\")"
   ]
  },
  {
   "cell_type": "code",
   "execution_count": 51,
   "metadata": {
    "collapsed": false
   },
   "outputs": [
    {
     "data": {
      "text/html": [
       "<div>\n",
       "<table border=\"1\" class=\"dataframe\">\n",
       "  <thead>\n",
       "    <tr style=\"text-align: right;\">\n",
       "      <th></th>\n",
       "      <th>genres</th>\n",
       "      <th>imdb_rating</th>\n",
       "      <th>imdb_votes</th>\n",
       "      <th>movie_id</th>\n",
       "      <th>movie_title</th>\n",
       "      <th>movie_year</th>\n",
       "    </tr>\n",
       "  </thead>\n",
       "  <tbody>\n",
       "    <tr>\n",
       "      <th>0</th>\n",
       "      <td>['comedy', 'romance']</td>\n",
       "      <td>6.9</td>\n",
       "      <td>62847</td>\n",
       "      <td>m0</td>\n",
       "      <td>10 things i hate about you</td>\n",
       "      <td>1999</td>\n",
       "    </tr>\n",
       "    <tr>\n",
       "      <th>1</th>\n",
       "      <td>['adventure', 'biography', 'drama', 'history']</td>\n",
       "      <td>6.2</td>\n",
       "      <td>10421</td>\n",
       "      <td>m1</td>\n",
       "      <td>1492: conquest of paradise</td>\n",
       "      <td>1992</td>\n",
       "    </tr>\n",
       "    <tr>\n",
       "      <th>10</th>\n",
       "      <td>['drama', 'mystery', 'thriller']</td>\n",
       "      <td>6.9</td>\n",
       "      <td>7252</td>\n",
       "      <td>m10</td>\n",
       "      <td>affliction</td>\n",
       "      <td>1997</td>\n",
       "    </tr>\n",
       "  </tbody>\n",
       "</table>\n",
       "</div>"
      ],
      "text/plain": [
       "                                            genres  imdb_rating  imdb_votes  \\\n",
       "0                            ['comedy', 'romance']          6.9       62847   \n",
       "1   ['adventure', 'biography', 'drama', 'history']          6.2       10421   \n",
       "10                ['drama', 'mystery', 'thriller']          6.9        7252   \n",
       "\n",
       "   movie_id                 movie_title  movie_year  \n",
       "0        m0  10 things i hate about you        1999  \n",
       "1        m1  1492: conquest of paradise        1992  \n",
       "10      m10                  affliction        1997  "
      ]
     },
     "execution_count": 51,
     "metadata": {},
     "output_type": "execute_result"
    }
   ],
   "source": [
    "movies.head(3)"
   ]
  },
  {
   "cell_type": "code",
   "execution_count": 56,
   "metadata": {
    "collapsed": false
   },
   "outputs": [
    {
     "data": {
      "text/html": [
       "<div>\n",
       "<table border=\"1\" class=\"dataframe\">\n",
       "  <thead>\n",
       "    <tr style=\"text-align: right;\">\n",
       "      <th></th>\n",
       "      <th>genres</th>\n",
       "      <th>imdb_rating</th>\n",
       "      <th>imdb_votes</th>\n",
       "      <th>movie_id</th>\n",
       "      <th>movie_title</th>\n",
       "      <th>movie_year</th>\n",
       "    </tr>\n",
       "  </thead>\n",
       "  <tbody>\n",
       "    <tr>\n",
       "      <th>171</th>\n",
       "      <td>['action', 'drama', 'romance', 'western']</td>\n",
       "      <td>6.9</td>\n",
       "      <td>115</td>\n",
       "      <td>m171</td>\n",
       "      <td>roughshod</td>\n",
       "      <td>1949</td>\n",
       "    </tr>\n",
       "    <tr>\n",
       "      <th>198</th>\n",
       "      <td>['action', 'sci-fi', 'thriller']</td>\n",
       "      <td>6.4</td>\n",
       "      <td>28682</td>\n",
       "      <td>m198</td>\n",
       "      <td>star trek: nemesis</td>\n",
       "      <td>2002</td>\n",
       "    </tr>\n",
       "    <tr>\n",
       "      <th>411</th>\n",
       "      <td>['action', 'adventure', 'family', 'sci-fi', 'a...</td>\n",
       "      <td>7.9</td>\n",
       "      <td>153737</td>\n",
       "      <td>m411</td>\n",
       "      <td>jurassic park</td>\n",
       "      <td>1993</td>\n",
       "    </tr>\n",
       "  </tbody>\n",
       "</table>\n",
       "</div>"
      ],
      "text/plain": [
       "                                                genres  imdb_rating  \\\n",
       "171          ['action', 'drama', 'romance', 'western']          6.9   \n",
       "198                   ['action', 'sci-fi', 'thriller']          6.4   \n",
       "411  ['action', 'adventure', 'family', 'sci-fi', 'a...          7.9   \n",
       "\n",
       "     imdb_votes movie_id         movie_title  movie_year  \n",
       "171         115     m171           roughshod        1949  \n",
       "198       28682     m198  star trek: nemesis        2002  \n",
       "411      153737     m411       jurassic park        1993  "
      ]
     },
     "execution_count": 56,
     "metadata": {},
     "output_type": "execute_result"
    }
   ],
   "source": [
    "movies[(movies.movie_id==\"m411\") | (movies.movie_id==\"m198\")|(movies.movie_id==\"m171\")]"
   ]
  },
  {
   "cell_type": "code",
   "execution_count": 92,
   "metadata": {
    "collapsed": false
   },
   "outputs": [
    {
     "data": {
      "text/plain": [
       "[('m141_u2196_u2200_20094', 0.6500850915908813),\n",
       " ('m52_u820_u822_7168', 0.6422507762908936),\n",
       " ('m35_u556_u567_4794', 0.6298543214797974)]"
      ]
     },
     "execution_count": 92,
     "metadata": {},
     "output_type": "execute_result"
    }
   ],
   "source": [
    "tokens = [\"surely\",\"you\",\"be\",\"serious\"]\n",
    "new_vector = model_dm.infer_vector(tokens)\n",
    "sims = model_dm.docvecs.most_similar(positive=[new_vector],topn=3)\n",
    "sims"
   ]
  },
  {
   "cell_type": "code",
   "execution_count": 93,
   "metadata": {
    "collapsed": false,
    "scrolled": true
   },
   "outputs": [
    {
     "data": {
      "text/plain": [
       "['hello ',\n",
       " 'hello ',\n",
       " 'i',\n",
       " 'think',\n",
       " 'you',\n",
       " 'can',\n",
       " 'understand',\n",
       " 'why',\n",
       " 'i',\n",
       " 'have',\n",
       " 'some',\n",
       " 'serious',\n",
       " 'questions',\n",
       " 'about',\n",
       " 'your',\n",
       " 'methods ',\n",
       " 'i',\n",
       " 'mean ',\n",
       " 'obviously',\n",
       " 'it',\n",
       " 'becomes',\n",
       " 'much',\n",
       " 'more',\n",
       " 'likely',\n",
       " 'that',\n",
       " \"i'm\",\n",
       " 'going',\n",
       " 'to',\n",
       " 'have',\n",
       " 'confusion',\n",
       " 'about',\n",
       " 'this',\n",
       " 'when',\n",
       " 'your',\n",
       " 'idea',\n",
       " 'of',\n",
       " 'treatment',\n",
       " 'is',\n",
       " 'to',\n",
       " 'go',\n",
       " 'walking',\n",
       " 'in',\n",
       " 'the',\n",
       " 'woods',\n",
       " 'and',\n",
       " 'up',\n",
       " 'to',\n",
       " 'make ',\n",
       " 'outs ville',\n",
       " 'and',\n",
       " 'do',\n",
       " 'all',\n",
       " 'these',\n",
       " 'highly',\n",
       " 'romantic',\n",
       " 'activities',\n",
       " '  ']"
      ]
     },
     "execution_count": 93,
     "metadata": {},
     "output_type": "execute_result"
    }
   ],
   "source": [
    "conversations[conversations.new_index==\"m141_u2196_u2200_20094\"][\"dialogues_text\"].values[0]"
   ]
  },
  {
   "cell_type": "code",
   "execution_count": 94,
   "metadata": {
    "collapsed": false
   },
   "outputs": [
    {
     "data": {
      "text/plain": [
       "['why',\n",
       " ' ',\n",
       " 'er',\n",
       " ' ',\n",
       " 'mrs ',\n",
       " 'teasdale',\n",
       " ' ',\n",
       " 'this',\n",
       " 'is',\n",
       " 'an',\n",
       " 'outrage ',\n",
       " '',\n",
       " 'this',\n",
       " 'man',\n",
       " 'is',\n",
       " 'impossible   ',\n",
       " 'my',\n",
       " 'course',\n",
       " 'is',\n",
       " 'clear   ',\n",
       " '',\n",
       " 'this',\n",
       " 'means',\n",
       " 'war   ',\n",
       " '',\n",
       " 'you',\n",
       " 'runt ',\n",
       " 'i',\n",
       " 'still',\n",
       " 'like',\n",
       " 'upstart',\n",
       " 'the',\n",
       " 'best ']"
      ]
     },
     "execution_count": 94,
     "metadata": {},
     "output_type": "execute_result"
    }
   ],
   "source": [
    "conversations[conversations.new_index==\"m52_u820_u822_7168\"][\"dialogues_text\"].values[0]"
   ]
  },
  {
   "cell_type": "code",
   "execution_count": 95,
   "metadata": {
    "collapsed": false
   },
   "outputs": [
    {
     "data": {
      "text/plain": [
       "['good',\n",
       " 'god   you',\n",
       " \"don't\",\n",
       " 'think',\n",
       " 'there',\n",
       " 'really',\n",
       " 'is',\n",
       " 'a',\n",
       " 'bomb',\n",
       " 'shelter ',\n",
       " 'do',\n",
       " 'you ',\n",
       " 'fallout',\n",
       " 'shelter ']"
      ]
     },
     "execution_count": 95,
     "metadata": {},
     "output_type": "execute_result"
    }
   ],
   "source": [
    "conversations[conversations.new_index==\"m35_u556_u567_4794\"][\"dialogues_text\"].values[0]"
   ]
  },
  {
   "cell_type": "markdown",
   "metadata": {},
   "source": [
    "The performance of this model can be improved by further rounds of training and in different word permutations!"
   ]
  }
 ],
 "metadata": {
  "kernelspec": {
   "display_name": "Python 3",
   "language": "python",
   "name": "python3"
  },
  "language_info": {
   "codemirror_mode": {
    "name": "ipython",
    "version": 3
   },
   "file_extension": ".py",
   "mimetype": "text/x-python",
   "name": "python",
   "nbconvert_exporter": "python",
   "pygments_lexer": "ipython3",
   "version": "3.6.0"
  }
 },
 "nbformat": 4,
 "nbformat_minor": 2
}
